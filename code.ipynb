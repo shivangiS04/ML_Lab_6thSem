{
 "cells": [
  {
   "cell_type": "code",
   "id": "initial_id",
   "metadata": {
    "collapsed": true,
    "ExecuteTime": {
     "end_time": "2025-02-10T07:28:58.720172Z",
     "start_time": "2025-02-10T07:28:58.691565Z"
    }
   },
   "source": [
    "import pandas as pd\n",
    "\n",
    "# Load dataset with correct path\n",
    "file_path = \"/Users/shivangisingh/PycharmProjects/ML_Lab_6thSem/Most popular 1000 Youtube videos.csv\"\n",
    "\n",
    "# Read the dataset\n",
    "df = pd.read_csv(file_path)\n",
    "\n",
    "# Display first few rows\n",
    "print(df.head())\n",
    "\n"
   ],
   "outputs": [
    {
     "name": "stdout",
     "output_type": "stream",
     "text": [
      "   rank                                              Video    Video views  \\\n",
      "0     1  Lil Nas X - Old Town Road (Official Movie) ft....     54,071,677   \n",
      "1     2  20 Tennis shots if they were not filmed, NOBOD...      3,471,237   \n",
      "2     3                 JoJo Siwa - Karma (Official Video)     34,206,747   \n",
      "3     4    David Kushner - Daylight (Official Music Video)     18,558,390   \n",
      "4     5  Wiz Khalifa - See You Again ft. Charlie Puth [...  6,547,981,039   \n",
      "\n",
      "        Likes Dislikes Category  published  \n",
      "0   3,497,955   78,799    Music       2019  \n",
      "1      19,023      859      NaN       2017  \n",
      "2     293,563      NaN    Music       2024  \n",
      "3     680,732      NaN    Music       2023  \n",
      "4  44,428,537      NaN    Music       2015  \n"
     ]
    }
   ],
   "execution_count": 3
  },
  {
   "metadata": {
    "ExecuteTime": {
     "end_time": "2025-02-10T07:47:42.078733Z",
     "start_time": "2025-02-10T07:47:42.037711Z"
    }
   },
   "cell_type": "code",
   "source": [
    "# Check the number of rows and columns\n",
    "print(\"Dataset Shape:\", df.shape)\n",
    "\n",
    "# Display column names\n",
    "print(\"Columns:\", df.columns)\n",
    "\n",
    "# Check for missing values\n",
    "print(\"Missing Values:\\n\", df.isnull().sum())\n",
    "\n",
    "# Check data types of each column\n",
    "print(df.dtypes)\n",
    "\n",
    "# Summary statistics\n",
    "print(df.describe())\n"
   ],
   "id": "60630678d88868d8",
   "outputs": [
    {
     "name": "stdout",
     "output_type": "stream",
     "text": [
      "Dataset Shape: (1000, 7)\n",
      "Columns: Index(['rank', 'Video', 'Video views', 'Likes', 'Dislikes', 'Category',\n",
      "       'published'],\n",
      "      dtype='object')\n",
      "Missing Values:\n",
      " rank             0\n",
      "Video            0\n",
      "Video views      0\n",
      "Likes            0\n",
      "Dislikes       473\n",
      "Category        18\n",
      "published        0\n",
      "dtype: int64\n",
      "rank            int64\n",
      "Video          object\n",
      "Video views    object\n",
      "Likes          object\n",
      "Dislikes       object\n",
      "Category       object\n",
      "published       int64\n",
      "dtype: object\n",
      "              rank    published\n",
      "count  1000.000000  1000.000000\n",
      "mean    500.500000  2019.100000\n",
      "std     288.819436     5.384328\n",
      "min       1.000000  2005.000000\n",
      "25%     250.750000  2017.000000\n",
      "50%     500.500000  2021.000000\n",
      "75%     750.250000  2024.000000\n",
      "max    1000.000000  2025.000000\n"
     ]
    }
   ],
   "execution_count": 8
  },
  {
   "metadata": {
    "ExecuteTime": {
     "end_time": "2025-02-10T07:47:52.435234Z",
     "start_time": "2025-02-10T07:47:52.414592Z"
    }
   },
   "cell_type": "code",
   "source": [
    "# Unique categories in 'Category'\n",
    "print(\"Unique Categories:\", df[\"Category\"].unique())\n"
   ],
   "id": "f84e7205f4238ec9",
   "outputs": [
    {
     "name": "stdout",
     "output_type": "stream",
     "text": [
      "Unique Categories: ['Music' nan 'Entertainment' 'People & Blogs' 'News & Politics'\n",
      " 'Pets & Animals' 'Sports' 'Travel & Events' 'Education' 'Gaming' 'Comedy'\n",
      " 'Film & Animation' 'Autos & Vehicles' 'Howto & Style'\n",
      " 'Science & Technology' 'Nonprofits & Activism']\n"
     ]
    }
   ],
   "execution_count": 9
  },
  {
   "metadata": {
    "ExecuteTime": {
     "end_time": "2025-02-10T07:48:02.147195Z",
     "start_time": "2025-02-10T07:48:02.132870Z"
    }
   },
   "cell_type": "code",
   "source": [
    "# Remove commas and convert to numeric\n",
    "for col in [\"Video views\", \"Likes\", \"Dislikes\"]:\n",
    "    df[col] = df[col].str.replace(\",\", \"\").astype(float)\n"
   ],
   "id": "c85703e196e21e24",
   "outputs": [],
   "execution_count": 10
  },
  {
   "metadata": {
    "ExecuteTime": {
     "end_time": "2025-02-10T07:51:37.166344Z",
     "start_time": "2025-02-10T07:51:37.142099Z"
    }
   },
   "cell_type": "code",
   "source": [
    "import pandas as pd\n",
    "\n",
    "# Sample DataFrame\n",
    "data = {\"Likes\": [100, 200, 150], \"Dislikes\": [10, None, 20]}\n",
    "df = pd.DataFrame(data)\n",
    "\n",
    "# Fix: Avoid inplace modification on a copy\n",
    "df[\"Dislikes\"] = df[\"Dislikes\"].fillna(df[\"Dislikes\"].median())\n",
    "\n",
    "# Display updated DataFrame\n",
    "print(df)\n"
   ],
   "id": "2dda0802dbd06e9d",
   "outputs": [
    {
     "name": "stdout",
     "output_type": "stream",
     "text": [
      "   Likes  Dislikes\n",
      "0    100      10.0\n",
      "1    200      15.0\n",
      "2    150      20.0\n"
     ]
    }
   ],
   "execution_count": 13
  },
  {
   "metadata": {
    "ExecuteTime": {
     "end_time": "2025-02-10T07:52:36.435882Z",
     "start_time": "2025-02-10T07:52:36.419479Z"
    }
   },
   "cell_type": "code",
   "source": "print(df.isnull().sum())  # Ensure there are no NaN values\n",
   "id": "dfc7ae05ad70cce0",
   "outputs": [
    {
     "name": "stdout",
     "output_type": "stream",
     "text": [
      "Likes       0\n",
      "Dislikes    0\n",
      "dtype: int64\n"
     ]
    }
   ],
   "execution_count": 14
  },
  {
   "metadata": {
    "ExecuteTime": {
     "end_time": "2025-02-10T07:52:44.876514Z",
     "start_time": "2025-02-10T07:52:44.859490Z"
    }
   },
   "cell_type": "code",
   "source": "df[\"Dislikes\"] = df[\"Dislikes\"].astype(int)  # Convert to integer\n",
   "id": "48532a7cf4dcd4e1",
   "outputs": [],
   "execution_count": 15
  },
  {
   "metadata": {
    "ExecuteTime": {
     "end_time": "2025-02-10T07:52:52.342690Z",
     "start_time": "2025-02-10T07:52:52.318269Z"
    }
   },
   "cell_type": "code",
   "source": "print(df.describe())\n",
   "id": "5c1ff0fef7dcee08",
   "outputs": [
    {
     "name": "stdout",
     "output_type": "stream",
     "text": [
      "       Likes  Dislikes\n",
      "count    3.0       3.0\n",
      "mean   150.0      15.0\n",
      "std     50.0       5.0\n",
      "min    100.0      10.0\n",
      "25%    125.0      12.5\n",
      "50%    150.0      15.0\n",
      "75%    175.0      17.5\n",
      "max    200.0      20.0\n"
     ]
    }
   ],
   "execution_count": 16
  },
  {
   "metadata": {
    "ExecuteTime": {
     "end_time": "2025-02-10T07:53:00.230038Z",
     "start_time": "2025-02-10T07:52:59.571502Z"
    }
   },
   "cell_type": "code",
   "source": [
    "import matplotlib.pyplot as plt\n",
    "\n",
    "df.plot(kind=\"bar\", x=\"Likes\", y=\"Dislikes\", legend=False)\n",
    "plt.title(\"Likes vs Dislikes\")\n",
    "plt.show()\n"
   ],
   "id": "ce337e080c0e487d",
   "outputs": [
    {
     "data": {
      "text/plain": [
       "<Figure size 640x480 with 1 Axes>"
      ],
      "image/png": "[encoded data removed]"
     },
     "metadata": {},
     "output_type": "display_data"
    }
   ],
   "execution_count": 17
  },
  {
   "metadata": {
    "ExecuteTime": {
     "end_time": "2025-02-10T07:53:10.239205Z",
     "start_time": "2025-02-10T07:53:10.224695Z"
    }
   },
   "cell_type": "code",
   "source": "df.to_csv(\"cleaned_data.csv\", index=False)\n",
   "id": "bacbd6c80e32e7de",
   "outputs": [],
   "execution_count": 18
  },
  {
   "metadata": {
    "ExecuteTime": {
     "end_time": "2025-02-10T07:55:20.905478Z",
     "start_time": "2025-02-10T07:55:20.886261Z"
    }
   },
   "cell_type": "code",
   "source": [
    "# Sample DataFrame\n",
    "data = {\"Likes\": [100, 200, 150, 250, 300, 350], \n",
    "        \"Dislikes\": [10, None, 20, 25, None, 40]}\n",
    "df = pd.DataFrame(data)\n",
    "\n",
    "# Fill missing values in \"Dislikes\" with the median\n",
    "df[\"Dislikes\"] = df[\"Dislikes\"].fillna(df[\"Dislikes\"].median())\n",
    "\n",
    "print(df)  # Check the cleaned data\n"
   ],
   "id": "8fe918faba5b7e35",
   "outputs": [
    {
     "name": "stdout",
     "output_type": "stream",
     "text": [
      "   Likes  Dislikes\n",
      "0    100      10.0\n",
      "1    200      22.5\n",
      "2    150      20.0\n",
      "3    250      25.0\n",
      "4    300      22.5\n",
      "5    350      40.0\n"
     ]
    }
   ],
   "execution_count": 20
  },
  {
   "metadata": {
    "ExecuteTime": {
     "end_time": "2025-02-10T07:55:28.355947Z",
     "start_time": "2025-02-10T07:55:28.334390Z"
    }
   },
   "cell_type": "code",
   "source": [
    "# Features (Independent Variable)\n",
    "X = df[[\"Likes\"]]\n",
    "\n",
    "# Target (Dependent Variable)\n",
    "y = df[\"Dislikes\"]\n",
    "\n",
    "# Split into 80% training and 20% testing data\n",
    "X_train, X_test, y_train, y_test = train_test_split(X, y, test_size=0.2, random_state=42)\n",
    "\n",
    "print(\"Training Data:\\n\", X_train)\n",
    "print(\"Testing Data:\\n\", X_test)\n"
   ],
   "id": "6f1735f3237990d",
   "outputs": [
    {
     "name": "stdout",
     "output_type": "stream",
     "text": [
      "Training Data:\n",
      "    Likes\n",
      "5    350\n",
      "2    150\n",
      "4    300\n",
      "3    250\n",
      "Testing Data:\n",
      "    Likes\n",
      "0    100\n",
      "1    200\n"
     ]
    }
   ],
   "execution_count": 21
  },
  {
   "metadata": {
    "ExecuteTime": {
     "end_time": "2025-02-10T07:55:37.110257Z",
     "start_time": "2025-02-10T07:55:37.088920Z"
    }
   },
   "cell_type": "code",
   "source": [
    "# Initialize and train the Linear Regression model\n",
    "model = LinearRegression()\n",
    "model.fit(X_train, y_train)\n",
    "\n",
    "# Print model coefficients\n",
    "print(f\"Intercept: {model.intercept_}\")\n",
    "print(f\"Coefficient: {model.coef_[0]}\")\n"
   ],
   "id": "af5f381c5dc4a7b6",
   "outputs": [
    {
     "name": "stdout",
     "output_type": "stream",
     "text": [
      "Intercept: 5.5000000000000036\n",
      "Coefficient: 0.08142857142857142\n"
     ]
    }
   ],
   "execution_count": 22
  },
  {
   "metadata": {
    "ExecuteTime": {
     "end_time": "2025-02-10T07:55:45.350638Z",
     "start_time": "2025-02-10T07:55:45.327976Z"
    }
   },
   "cell_type": "code",
   "source": [
    "# Predict on test data\n",
    "y_pred = model.predict(X_test)\n",
    "\n",
    "# Compare actual vs predicted values\n",
    "results = pd.DataFrame({\"Actual\": y_test, \"Predicted\": y_pred})\n",
    "print(results)\n"
   ],
   "id": "cbbb910939ca6f6",
   "outputs": [
    {
     "name": "stdout",
     "output_type": "stream",
     "text": [
      "   Actual  Predicted\n",
      "0    10.0  13.642857\n",
      "1    22.5  21.785714\n"
     ]
    }
   ],
   "execution_count": 23
  },
  {
   "metadata": {
    "ExecuteTime": {
     "end_time": "2025-02-10T07:55:58.595235Z",
     "start_time": "2025-02-10T07:55:58.582469Z"
    }
   },
   "cell_type": "code",
   "source": [
    "# Compute Mean Squared Error and R-squared score\n",
    "mse = mean_squared_error(y_test, y_pred)\n",
    "r2 = r2_score(y_test, y_pred)\n",
    "\n",
    "print(f\"Mean Squared Error: {mse}\")\n",
    "print(f\"R-squared Score: {r2}\")\n"
   ],
   "id": "57418badc8dc551b",
   "outputs": [
    {
     "name": "stdout",
     "output_type": "stream",
     "text": [
      "Mean Squared Error: 6.8903061224489885\n",
      "R-squared Score: 0.8236081632653058\n"
     ]
    }
   ],
   "execution_count": 24
  },
  {
   "metadata": {
    "ExecuteTime": {
     "end_time": "2025-02-10T07:56:05.433612Z",
     "start_time": "2025-02-10T07:56:05.324501Z"
    }
   },
   "cell_type": "code",
   "source": [
    "# Scatter plot of actual data\n",
    "plt.scatter(X, y, color=\"blue\", label=\"Actual Data\")\n",
    "\n",
    "# Plot regression line\n",
    "plt.plot(X, model.predict(X), color=\"red\", linewidth=2, label=\"Regression Line\")\n",
    "\n",
    "# Labels and title\n",
    "plt.xlabel(\"Likes\")\n",
    "plt.ylabel(\"Dislikes\")\n",
    "plt.legend()\n",
    "plt.title(\"Linear Regression: Likes vs. Dislikes\")\n",
    "\n",
    "# Show plot\n",
    "plt.show()\n"
   ],
   "id": "29887c60f508e75c",
   "outputs": [
    {
     "data": {
      "text/plain": [
       "<Figure size 640x480 with 1 Axes>"
      ],
      "image/png": "[encoded data removed]"
     },
     "metadata": {},
     "output_type": "display_data"
    }
   ],
   "execution_count": 25
  },
  {
   "metadata": {},
   "cell_type": "code",
   "outputs": [],
   "execution_count": null,
   "source": "",
   "id": "e6154fa1d9f2e29c"
  }
 ],
 "metadata": {
  "kernelspec": {
   "display_name": "Python 3",
   "language": "python",
   "name": "python3"
  },
  "language_info": {
   "codemirror_mode": {
    "name": "ipython",
    "version": 2
   },
   "file_extension": ".py",
   "mimetype": "text/x-python",
   "name": "python",
   "nbconvert_exporter": "python",
   "pygments_lexer": "ipython2",
   "version": "2.7.6"
  }
 },
 "nbformat": 4,
 "nbformat_minor": 5
}
